{
 "cells": [
  {
   "cell_type": "markdown",
   "id": "f9f9f39d-f0d0-4170-86cf-963c5cd04da4",
   "metadata": {},
   "source": [
    "# Creating Database in MySQL :"
   ]
  },
  {
   "cell_type": "markdown",
   "id": "570937e7-f4b2-48ef-87dc-a1505eb71880",
   "metadata": {},
   "source": [
    "### Syntax :"
   ]
  },
  {
   "cell_type": "code",
   "execution_count": 1,
   "id": "49cf81dd-5339-443d-af2f-70f413a3fa81",
   "metadata": {},
   "outputs": [],
   "source": [
    "# CREATE DATABASE database_name;"
   ]
  },
  {
   "cell_type": "markdown",
   "id": "655bfeed-3c38-48b3-9f3a-45c95480fac3",
   "metadata": {},
   "source": [
    "### Example :"
   ]
  },
  {
   "cell_type": "code",
   "execution_count": 6,
   "id": "2e8375ea-f561-4ca4-98c8-122cc6dc4f84",
   "metadata": {},
   "outputs": [],
   "source": [
    "# CREATE DATABASE student_db;"
   ]
  },
  {
   "cell_type": "markdown",
   "id": "1d9f5f9d-6a1f-4d40-b32e-6f9f00364fdc",
   "metadata": {},
   "source": [
    "## Viewing All Databases :"
   ]
  },
  {
   "cell_type": "code",
   "execution_count": 7,
   "id": "27f7e029-4cc5-4b75-9ede-0bd0a22d6320",
   "metadata": {},
   "outputs": [],
   "source": [
    "# SHOW DATABASES ;"
   ]
  },
  {
   "cell_type": "markdown",
   "id": "a0efa5c8-7258-4826-aac9-a7d2a8c09ef9",
   "metadata": {},
   "source": [
    "## Switching to a Database :"
   ]
  },
  {
   "cell_type": "code",
   "execution_count": 8,
   "id": "0cd19cf7-a0b4-4e21-b4f3-89f912c40813",
   "metadata": {},
   "outputs": [],
   "source": [
    "# USE student_db;"
   ]
  },
  {
   "cell_type": "markdown",
   "id": "88908d3f-6c54-4aa8-bebe-f53a21f78739",
   "metadata": {},
   "source": [
    "## Dropping a Database :"
   ]
  },
  {
   "cell_type": "code",
   "execution_count": 9,
   "id": "22a8967e-61de-408d-a25f-0acb52467c26",
   "metadata": {},
   "outputs": [],
   "source": [
    "# DROP DATABASE database_name:"
   ]
  },
  {
   "cell_type": "markdown",
   "id": "3124874d-2d3a-405a-b08c-8980c9622326",
   "metadata": {},
   "source": [
    "### Example :"
   ]
  },
  {
   "cell_type": "code",
   "execution_count": 10,
   "id": "29c7a81f-a98f-4548-9b52-b8f47847b177",
   "metadata": {},
   "outputs": [],
   "source": [
    "# DROP DATABASE student_db;"
   ]
  },
  {
   "cell_type": "markdown",
   "id": "7f2fee36-d3e9-47a3-b429-3d27457d186f",
   "metadata": {},
   "source": [
    "# Creating Table in MySQL :"
   ]
  },
  {
   "cell_type": "markdown",
   "id": "8c3e024a-2d45-48a9-86d0-3646437484f0",
   "metadata": {},
   "source": [
    "### Syntax :"
   ]
  },
  {
   "cell_type": "code",
   "execution_count": 14,
   "id": "839afd18-5d20-444d-af9e-10fa59b1aeb9",
   "metadata": {},
   "outputs": [],
   "source": [
    " #    CREATE TABLE table_name(\n",
    " #      column1 datatype constraints,\n",
    " #       column2 datatype constraints;\n",
    " #    );"
   ]
  },
  {
   "cell_type": "markdown",
   "id": "8d3ed49f-68a7-4231-ad0f-76951bbfba63",
   "metadata": {},
   "source": [
    "### View All Tables :"
   ]
  },
  {
   "cell_type": "code",
   "execution_count": 11,
   "id": "4b98773d-e396-474b-b02d-329de756245d",
   "metadata": {},
   "outputs": [],
   "source": [
    "# SHOW TABLES;"
   ]
  },
  {
   "cell_type": "markdown",
   "id": "99f1a81d-6ae4-4760-8ef5-14d43a608695",
   "metadata": {},
   "source": [
    "### View Table Structure :"
   ]
  },
  {
   "cell_type": "code",
   "execution_count": 12,
   "id": "90e6b1ca-382b-41ef-959a-1c62fa752c50",
   "metadata": {},
   "outputs": [],
   "source": [
    "# DESCRIBE table_name;"
   ]
  },
  {
   "cell_type": "markdown",
   "id": "75c73ebd-ce00-419d-93b7-cafcd54f2c2a",
   "metadata": {},
   "source": [
    "### Viewing Table Data :"
   ]
  },
  {
   "cell_type": "code",
   "execution_count": 13,
   "id": "31f747a5-364d-4b9e-a3be-a9c3234b7268",
   "metadata": {},
   "outputs": [],
   "source": [
    "# SELECT * FROM table_name;"
   ]
  },
  {
   "cell_type": "markdown",
   "id": "33c77ece-2900-4932-9bcc-ef43013606d4",
   "metadata": {},
   "source": [
    "# Modifying a Table in MySQL :"
   ]
  },
  {
   "cell_type": "markdown",
   "id": "28e15c3c-90d1-4f64-96e4-d35e42d4df4c",
   "metadata": {},
   "source": [
    "## Renaming a Table :"
   ]
  },
  {
   "cell_type": "code",
   "execution_count": 15,
   "id": "b04fbb90-174a-4d8a-bd64-d8350d1e3066",
   "metadata": {},
   "outputs": [],
   "source": [
    "# RENAME TABLE old_table_name TO new_table_name;"
   ]
  },
  {
   "cell_type": "markdown",
   "id": "0a1b0a61-acca-4def-8739-face02cccf62",
   "metadata": {},
   "source": [
    "### Dropping a Table :"
   ]
  },
  {
   "cell_type": "code",
   "execution_count": 16,
   "id": "a23abbb1-c661-4021-a8f5-2454e9b43905",
   "metadata": {},
   "outputs": [],
   "source": [
    "# DROP TABLE table_name;"
   ]
  },
  {
   "cell_type": "markdown",
   "id": "2f1a8aae-8caf-4277-90b6-abffd5a55d06",
   "metadata": {},
   "source": [
    "### Renaming a Column :"
   ]
  },
  {
   "cell_type": "code",
   "execution_count": 17,
   "id": "448fee83-7c1f-485f-afc9-27f4ff22bd1f",
   "metadata": {},
   "outputs": [],
   "source": [
    "# ALTER TABLE table_name RENAME COLUMN old_column_name TO new_column_name;"
   ]
  },
  {
   "cell_type": "markdown",
   "id": "33163e97-f1ef-42b6-9ce8-b401185b4d3b",
   "metadata": {},
   "source": [
    "### Dropping a Column :"
   ]
  },
  {
   "cell_type": "code",
   "execution_count": 18,
   "id": "829e8297-7d41-47ce-88fb-1a9cd8e77e92",
   "metadata": {},
   "outputs": [],
   "source": [
    "# ALTER TABLE table_name DROP COLUMN column_name;"
   ]
  },
  {
   "cell_type": "markdown",
   "id": "855116d5-53a2-48e8-bef7-0dd6c38fe60e",
   "metadata": {},
   "source": [
    "### Adding a Column :"
   ]
  },
  {
   "cell_type": "code",
   "execution_count": 19,
   "id": "809049da-c6a2-4415-92db-21cf995701be",
   "metadata": {},
   "outputs": [],
   "source": [
    "# ALTER TABLE table_name ADD COLUMN column_name datatype constraints;"
   ]
  },
  {
   "cell_type": "markdown",
   "id": "690b4f72-c79a-48a7-b48e-b5f8dba567de",
   "metadata": {},
   "source": [
    "#### Example :"
   ]
  },
  {
   "cell_type": "code",
   "execution_count": 21,
   "id": "474f235e-c9cd-4547-bfa5-3b3b57603071",
   "metadata": {},
   "outputs": [],
   "source": [
    "# ALTER TABLE students ADD COLUMN gender VARCHAR(10);"
   ]
  },
  {
   "cell_type": "markdown",
   "id": "50dec0f5-59af-4855-a931-2b8d5a1119e2",
   "metadata": {},
   "source": [
    "### Modifying a Column :"
   ]
  },
  {
   "cell_type": "code",
   "execution_count": 22,
   "id": "587955d4-42c8-4255-93b9-165547fff4b2",
   "metadata": {},
   "outputs": [],
   "source": [
    "# ALTER TABLE table_name MODIFY COLUMN column_name new_datatype new_constraints;"
   ]
  },
  {
   "cell_type": "markdown",
   "id": "c3c1dd49-a9ef-4fe2-8ecd-3b956e40cbd9",
   "metadata": {},
   "source": [
    "#### Example :"
   ]
  },
  {
   "cell_type": "code",
   "execution_count": 23,
   "id": "4cfb705d-9c12-44b6-8bd3-48aef69171ff",
   "metadata": {},
   "outputs": [],
   "source": [
    "# ALTER TABLE students MODIFY COLUMN name VARCHAR(150) NOT NULL;"
   ]
  },
  {
   "cell_type": "markdown",
   "id": "50ac0a1a-8eee-4ed3-82b7-d1a3a51cfefd",
   "metadata": {},
   "source": [
    "### Changing the Order of Columns :"
   ]
  },
  {
   "cell_type": "code",
   "execution_count": 24,
   "id": "9410a66d-d44e-40d4-8ca0-5f88b9494f87",
   "metadata": {},
   "outputs": [],
   "source": [
    "# ATER TABLE table_name MODIFY COLUMN column_name datatype AFTER another_column_name;"
   ]
  },
  {
   "cell_type": "markdown",
   "id": "db4f83bc-5b23-44bd-82cd-e27a9489ebe0",
   "metadata": {},
   "source": [
    "# How To Insert Rows into a Table in MySQL :"
   ]
  },
  {
   "cell_type": "markdown",
   "id": "03e4bdd0-d083-4738-a17a-fbe6a7ad91fa",
   "metadata": {},
   "source": [
    "### Create a New Database :"
   ]
  },
  {
   "cell_type": "code",
   "execution_count": 25,
   "id": "83765846-430f-413a-a064-241d099d4128",
   "metadata": {},
   "outputs": [],
   "source": [
    "# CREATE DATABASE database_name;"
   ]
  },
  {
   "cell_type": "markdown",
   "id": "ac1c8ffa-7b89-4d3d-b062-564aea18336f",
   "metadata": {},
   "source": [
    "### Select a Database :"
   ]
  },
  {
   "cell_type": "code",
   "execution_count": 26,
   "id": "b50491d3-b19f-4c8d-8a1c-727494c7712f",
   "metadata": {},
   "outputs": [],
   "source": [
    "# USE database_name;"
   ]
  },
  {
   "cell_type": "markdown",
   "id": "3d389b6f-5910-4fa0-b9f4-cd2a729c8d8e",
   "metadata": {},
   "source": [
    "### Create the student Table"
   ]
  },
  {
   "cell_type": "code",
   "execution_count": 27,
   "id": "01c57458-3dee-46e1-8ee6-80bf728967e6",
   "metadata": {},
   "outputs": [],
   "source": [
    " #    CREATE TABLE table_name(\n",
    " #      column1 datatype constraints,\n",
    " #       column2 datatype constraints;\n",
    " #    );"
   ]
  },
  {
   "cell_type": "markdown",
   "id": "535301be-a0f2-4348-96e5-dacc88dfebf6",
   "metadata": {},
   "source": [
    "### Insert Data into the Table :"
   ]
  },
  {
   "cell_type": "markdown",
   "id": "ba822ec6-d657-4d55-9e18-eabdbfa33034",
   "metadata": {},
   "source": [
    "### Insert One Row at a Time :"
   ]
  },
  {
   "cell_type": "code",
   "execution_count": 30,
   "id": "ffd2d46b-24a7-42dd-b01b-a61931928198",
   "metadata": {},
   "outputs": [],
   "source": [
    "# INSERT INTO student (id, name, age, grade, date_of_birth) VALUES (1, 'Ayesha Khan', 16, '10th', '2007-05-15');\n",
    "# INSERT INTO student (id, name, age, grade, date_of_birth) VALUES (2, 'Ravi Sharma', 17, '11th', '2006-03-22');\n",
    "# INSERT INTO student (id, name, age, grade, date_of_birth) VALUES (3, 'Meena Joshi', 15, '9th', NULL);\n",
    "# INSERT INTO student (id, name, age, grade, date_of_birth) VALUES (4, 'Arjun Verma', 18, '12th', NULL);\n",
    "# INSERT INTO student (id, name, age, grade, date_of_birth) VALUES (5, 'Sara Ali', 16, '10th', NULL);\n",
    "# INSERT INTO student (id, name, age, grade, date_of_birth) VALUES (6, 'Karan Mehta', 17, '11th', NULL);"
   ]
  },
  {
   "cell_type": "markdown",
   "id": "d74e000f-2e11-4613-a029-9e09d22c3f70",
   "metadata": {},
   "source": [
    "### Insert All Raws at Once :"
   ]
  },
  {
   "cell_type": "code",
   "execution_count": 31,
   "id": "aacdc7bf-f2ec-4d43-a262-9275191ad8fd",
   "metadata": {},
   "outputs": [],
   "source": [
    "# INSERT INTO student (id, name, age, grade) VALUES\n",
    "# (15, 'Ayesha Khan', 16, '10th'),\n",
    "# (25, 'Ravi Sharma', 17, '11th'),\n",
    "# (35, 'Meena Joshi', 15, '9th'),\n",
    "# (45, 'Arjun Verma', 18, '12th'),\n",
    "# (55, 'Sara Ali', 16, '10th'),\n",
    "# (65, 'Karan Mehta', 17, '11th')"
   ]
  },
  {
   "cell_type": "code",
   "execution_count": null,
   "id": "bf37aa16-16de-47fb-8ea7-7f07a31a5820",
   "metadata": {},
   "outputs": [],
   "source": []
  }
 ],
 "metadata": {
  "kernelspec": {
   "display_name": "Python 3 (ipykernel)",
   "language": "python",
   "name": "python3"
  },
  "language_info": {
   "codemirror_mode": {
    "name": "ipython",
    "version": 3
   },
   "file_extension": ".py",
   "mimetype": "text/x-python",
   "name": "python",
   "nbconvert_exporter": "python",
   "pygments_lexer": "ipython3",
   "version": "3.13.5"
  }
 },
 "nbformat": 4,
 "nbformat_minor": 5
}
