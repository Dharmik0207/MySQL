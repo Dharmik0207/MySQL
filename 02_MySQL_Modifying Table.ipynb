{
 "cells": [
  {
   "cell_type": "markdown",
   "id": "a99353a7-3a6c-405c-bc44-110f6f3f84c0",
   "metadata": {},
   "source": [
    "# Modifying a Table"
   ]
  },
  {
   "cell_type": "markdown",
   "id": "a448a16b-a888-4fa4-9aa8-0daa69d61351",
   "metadata": {},
   "source": [
    "### Renaming a Table"
   ]
  },
  {
   "cell_type": "markdown",
   "id": "fd4260ba-f99d-4da0-825f-69ae2756e53a",
   "metadata": {},
   "source": [
    " RENAME TABLE old_table_name to new_table_name;"
   ]
  },
  {
   "cell_type": "markdown",
   "id": "b8481adc-236e-44c3-8226-a725e9c73cef",
   "metadata": {},
   "source": [
    "### Deopping a Table"
   ]
  },
  {
   "cell_type": "markdown",
   "id": "3ec3defc-5dca-4c07-871e-79cb774b315c",
   "metadata": {},
   "source": [
    "DROP TABLE table_name;"
   ]
  },
  {
   "cell_type": "markdown",
   "id": "04746a21-7c59-4ec1-bedd-438d62e8e445",
   "metadata": {},
   "source": [
    "### Renaming a Column\n",
    "To rename a column in an existing table:"
   ]
  },
  {
   "cell_type": "markdown",
   "id": "c9481aa9-76f0-47a4-b3f9-05b9ebfd3001",
   "metadata": {},
   "source": [
    "ALTER TABLE table_name RENAME COLUMN old_column_name TO new_column_name; "
   ]
  },
  {
   "cell_type": "markdown",
   "id": "a1330d47-3271-4ddd-95cf-e237879c4fc5",
   "metadata": {},
   "source": [
    "### Dropping a Column\n",
    "To remove a column from a table:"
   ]
  },
  {
   "cell_type": "markdown",
   "id": "af531f0a-5166-4531-8805-2d58b2f3d5fb",
   "metadata": {},
   "source": [
    "ALTER TABLE table_name DROP COLUMN column_name;"
   ]
  },
  {
   "cell_type": "markdown",
   "id": "1324d3cd-5742-4169-b948-17042058f5ac",
   "metadata": {},
   "source": [
    "### Adding a Column\n",
    "To add a new column to an existing table:"
   ]
  },
  {
   "cell_type": "markdown",
   "id": "9d2154f3-d38b-4711-a185-faeda72f1ac8",
   "metadata": {},
   "source": [
    "ALTER TABLE table_name ADD COLUMN column_name datatype constrains;"
   ]
  },
  {
   "cell_type": "markdown",
   "id": "eac2c4a6-28b5-41af-9f85-bef9b89d0c4c",
   "metadata": {},
   "source": [
    "#### Example:"
   ]
  },
  {
   "cell_type": "markdown",
   "id": "5939f6c8-2c27-46da-8bde-967b1a071cca",
   "metadata": {},
   "source": [
    "ALTER TABLE students ADD COLUMN gender VARCHAR(10);"
   ]
  },
  {
   "cell_type": "markdown",
   "id": "1a4155da-a948-4cc8-9570-4b0de1201a5b",
   "metadata": {},
   "source": [
    "### Modifying a Column\n",
    "To change the data type or constraints of an existing column:"
   ]
  },
  {
   "cell_type": "markdown",
   "id": "882cd113-332f-40dc-8484-3391ef3a6e62",
   "metadata": {},
   "source": [
    "ALTER TABLE table_name MODIFY COLUMN column_name new_datatype new_dataconstrains;"
   ]
  },
  {
   "cell_type": "markdown",
   "id": "72f18cd9-e74b-4d47-81e1-f7813eb98b0c",
   "metadata": {},
   "source": [
    "#### Example:"
   ]
  },
  {
   "cell_type": "markdown",
   "id": "9435f9b4-7ada-4864-9e4b-7832ff579270",
   "metadata": {},
   "source": [
    "ALTER TABLE students MODIFY COLUMN name VARCHAR(50) NOT NULL;"
   ]
  },
  {
   "cell_type": "markdown",
   "id": "b503d41a-1a3d-4b5b-af5c-d7645ded8a52",
   "metadata": {},
   "source": [
    "### Changing the Order of Columns\n",
    "To change the order of columns in a table, you can use the MODIFY command with the AFTER keyword:"
   ]
  },
  {
   "cell_type": "markdown",
   "id": "c037c518-0d13-476e-ba47-a93e77a3839e",
   "metadata": {},
   "source": [
    "ALTER TABLE table_name MODIFY COLUMN column_name datatype AFTER another_column_name;"
   ]
  },
  {
   "cell_type": "markdown",
   "id": "0683511c-3622-4f2f-83ee-c83ed88f2a39",
   "metadata": {},
   "source": [
    "> Always review changes on production databases carefully. Use tools like DESCRIBE table_name to verify structure before and after modifications."
   ]
  },
  {
   "cell_type": "code",
   "execution_count": null,
   "id": "51349b0d-07e7-4bfb-b537-b27ac7a85918",
   "metadata": {},
   "outputs": [],
   "source": []
  }
 ],
 "metadata": {
  "kernelspec": {
   "display_name": "Python 3 (ipykernel)",
   "language": "python",
   "name": "python3"
  },
  "language_info": {
   "codemirror_mode": {
    "name": "ipython",
    "version": 3
   },
   "file_extension": ".py",
   "mimetype": "text/x-python",
   "name": "python",
   "nbconvert_exporter": "python",
   "pygments_lexer": "ipython3",
   "version": "3.13.5"
  }
 },
 "nbformat": 4,
 "nbformat_minor": 5
}
