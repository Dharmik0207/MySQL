{
 "cells": [
  {
   "cell_type": "markdown",
   "id": "f9f4acd1-61ae-470d-bcae-ef686d61f64f",
   "metadata": {},
   "source": [
    "# Inserting Data into a Table"
   ]
  },
  {
   "cell_type": "markdown",
   "id": "f2dd827b-2093-46a6-8f6a-806b8cb13e99",
   "metadata": {},
   "source": [
    "### 1. Create a New Database"
   ]
  },
  {
   "cell_type": "markdown",
   "id": "280f1ea3-60a1-471d-801b-0b32d35cd56d",
   "metadata": {},
   "source": [
    "CREATE DATABASE schooldb;"
   ]
  },
  {
   "cell_type": "markdown",
   "id": "e92b68c3-c26b-49b9-a442-b1c9acc94c1f",
   "metadata": {},
   "source": [
    "### 2. Select the Database"
   ]
  },
  {
   "cell_type": "markdown",
   "id": "e5a08916-bea6-4e78-a368-202cd8f9270d",
   "metadata": {},
   "source": [
    "USE schooldb;"
   ]
  },
  {
   "cell_type": "markdown",
   "id": "6a5f4e98-47f3-4476-b79d-733530107612",
   "metadata": {},
   "source": [
    "### 3. Create the student Table"
   ]
  },
  {
   "cell_type": "raw",
   "id": "b4a20be9-d5a9-46d0-92e2-cfa9e6b48007",
   "metadata": {},
   "source": [
    "CREATE TABLE student (\n",
    "    id INT PRIMARY KEY,\n",
    "    name VARCHAR(100),\n",
    "    age INT,\n",
    "    grade VARCHAR(10),\n",
    "    date_of_birth DATE\n",
    ");"
   ]
  },
  {
   "cell_type": "markdown",
   "id": "a0d206cb-87c6-4ace-8525-bf6817eb2a2a",
   "metadata": {},
   "source": [
    "### 4. Insert Data into the Table"
   ]
  },
  {
   "cell_type": "markdown",
   "id": "cc4a2808-88ed-4bea-95cf-d998576d4d3b",
   "metadata": {},
   "source": [
    "#### Insert One Row at a Time"
   ]
  },
  {
   "cell_type": "raw",
   "id": "6a4cc578-f51c-4f0c-8ef6-4a27bc95e7e4",
   "metadata": {},
   "source": [
    "INSERT INTO student (id, name, age, grade, date_of_birth) VALUES (1, 'Ayesha Khan', 16, '10th', '2007-05-15');\n",
    "INSERT INTO student (id, name, age, grade, date_of_birth) VALUES (2, 'Ravi Sharma', 17, '11th', '2006-03-22'); \n",
    "INSERT INTO student (id, name, age, grade, date_of_birth) VALUES (3, 'Meena Joshi', 15, '9th', NULL);\n",
    "INSERT INTO student (id, name, age, grade, date_of_birth) VALUES (4, 'Arjun Verma', 18, '12th', NULL);\n",
    "INSERT INTO student (id, name, age, grade, date_of_birth) VALUES (5, 'Sara Ali', 16, '10th', NULL);\n",
    "INSERT INTO student (id, name, age, grade, date_of_birth) VALUES (6, 'Karan Mehta', 17, '11th', NULL);\n",
    "INSERT INTO student (id, name, age, grade, date_of_birth) VALUES (7, 'Tanya Roy', 15, '9th', NULL);\n",
    "INSERT INTO student (id, name, age, grade, date_of_birth) VALUES (8, 'Vikram Singh', 18, '12th', NULL);\n",
    "INSERT INTO student (id, name, age, grade, date_of_birth) VALUES (9, 'Anjali Desai', 16, '10th', NULL);\n",
    "INSERT INTO student (id, name, age, grade, date_of_birth) VALUES (10, 'Farhan Zaidi', 17, '11th', NULL);"
   ]
  },
  {
   "cell_type": "markdown",
   "id": "491cbd38-16f7-4c5b-ad91-fe9ffbd85b6e",
   "metadata": {},
   "source": [
    "#### Insert All Rows at Once"
   ]
  },
  {
   "cell_type": "raw",
   "id": "69b6f54b-8360-4c4b-bb07-d7bf1ec6382b",
   "metadata": {},
   "source": [
    "INSERT INTO student (id, name, age, grade) VALUES\n",
    "(15, 'Ayesha Khan', 16, '10th'),\n",
    "(25, 'Ravi Sharma', 17, '11th'),\n",
    "(35, 'Meena Joshi', 15, '9th'),\n",
    "(45, 'Arjun Verma', 18, '12th'),\n",
    "(55, 'Sara Ali', 16, '10th'),\n",
    "(65, 'Karan Mehta', 17, '11th'),\n",
    "(75, 'Tanya Roy', 15, '9th'),\n",
    "(85, 'Vikram Singh', 18, '12th'),\n",
    "(95, 'Anjali Desai', 16, '10th'),\n",
    "(105, 'Farhan Zaidi', 17, '11th');"
   ]
  },
  {
   "cell_type": "markdown",
   "id": "a10c7e2e-be05-48b5-ad16-d206a44f43af",
   "metadata": {},
   "source": [
    "### 5. Verify the Inserted Records"
   ]
  },
  {
   "cell_type": "markdown",
   "id": "61436791-5b53-414c-8b60-3d5936fd420d",
   "metadata": {},
   "source": [
    "SELECT * FROM student;"
   ]
  },
  {
   "cell_type": "markdown",
   "id": "50b2cffb-4429-4672-85a4-1956ac6f64a2",
   "metadata": {},
   "source": [
    "> This will display all the records in the student table."
   ]
  },
  {
   "cell_type": "code",
   "execution_count": null,
   "id": "b81c7f91-9c55-4303-93e5-3055aa0db259",
   "metadata": {},
   "outputs": [],
   "source": []
  }
 ],
 "metadata": {
  "kernelspec": {
   "display_name": "Python 3 (ipykernel)",
   "language": "python",
   "name": "python3"
  },
  "language_info": {
   "codemirror_mode": {
    "name": "ipython",
    "version": 3
   },
   "file_extension": ".py",
   "mimetype": "text/x-python",
   "name": "python",
   "nbconvert_exporter": "python",
   "pygments_lexer": "ipython3",
   "version": "3.13.5"
  }
 },
 "nbformat": 4,
 "nbformat_minor": 5
}
