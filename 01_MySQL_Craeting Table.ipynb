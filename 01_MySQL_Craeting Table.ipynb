{
 "cells": [
  {
   "cell_type": "markdown",
   "id": "3ce4f7c8-dcc8-44e4-a6ee-d751a53cd82e",
   "metadata": {},
   "source": [
    "## Creating a Table"
   ]
  },
  {
   "cell_type": "markdown",
   "id": "b930b63f-e50d-4807-83be-bac21513486f",
   "metadata": {},
   "source": [
    "## Syntax"
   ]
  },
  {
   "cell_type": "raw",
   "id": "f99476ca-2acd-44e8-b2f0-5ea380cd9fbf",
   "metadata": {},
   "source": [
    "CREATE TABLE table_name (\n",
    "  column1 datatype constraints,\n",
    "  column2 datatype constraints,\n",
    "  ...\n",
    ");\n"
   ]
  },
  {
   "cell_type": "markdown",
   "id": "ef5dba83-6247-4faa-a424-b4b486fa0625",
   "metadata": {},
   "source": [
    "## Example"
   ]
  },
  {
   "cell_type": "raw",
   "id": "bff62c07-6cb4-4abb-81dc-29667fa3ac26",
   "metadata": {},
   "source": [
    "CREATE TABLE students (\n",
    "  id INT AUTO_INCREMENT PRIMARY KEY,\n",
    "  name VARCHAR(100) NOT NULL DEFAULT 'No Name',\n",
    "  age INT,\n",
    "  email VARCHAR(100) UNIQUE,\n",
    "  admission_date DATE\n",
    ");"
   ]
  },
  {
   "cell_type": "markdown",
   "id": "6aa4ea44-9f77-4de3-bceb-770e655880f2",
   "metadata": {},
   "source": [
    "### Explanation"
   ]
  },
  {
   "cell_type": "markdown",
   "id": "62cbd226-fe73-40c7-9ef0-61cc692f311c",
   "metadata": {},
   "source": [
    "- id INT AUTO_INCREMENT PRIMARY KEY – A unique identifier for each student that auto-increments.\n",
    "- name VARCHAR(100) NOT NULL – Name must be provided.\n",
    "- age INT – Stores numeric values for age.\n",
    "- email VARCHAR(100) UNIQUE – Each email must be different.\n",
    "- admission_date DATE – Stores the date of admission."
   ]
  },
  {
   "cell_type": "markdown",
   "id": "0c222d91-fa9b-4e85-8f85-46ff90a0e35f",
   "metadata": {},
   "source": [
    "### Commonly Used Data Types"
   ]
  },
  {
   "cell_type": "markdown",
   "id": "e486096c-0ba7-4926-af48-a1ecc0871336",
   "metadata": {},
   "source": [
    "- INT – Whole numbers (e.g., age, quantity)\n",
    "- VARCHAR(n) – Variable-length string (e.g., names, emails)\n",
    "- TEXT – Long text strings (e.g., descriptions)\n",
    "- DATE – Stores date values (YYYY-MM-DD)\n",
    "- DATETIME – Stores date and time values\n",
    "- BOOLEAN – Stores TRUE or FALSE"
   ]
  },
  {
   "cell_type": "markdown",
   "id": "67778ead-d310-406d-b6d3-7e66b3db0474",
   "metadata": {},
   "source": [
    "### Common Constraints"
   ]
  },
  {
   "cell_type": "markdown",
   "id": "86808ce7-c02b-46b6-8fe8-1f225150677a",
   "metadata": {},
   "source": [
    "- PRIMARY KEY – Uniquely identifies each record\n",
    "- NOT NULL – Ensures the column cannot be left empty\n",
    "- UNIQUE – Ensures all values in a column are different\n",
    "- AUTO_INCREMENT – Automatically increases numeric values\n",
    "- DEFAULT – Sets a default value for the column\n",
    "- FOREIGN KEY – Enforces relationships between tables"
   ]
  },
  {
   "cell_type": "markdown",
   "id": "41c79699-7558-4d78-baf7-59cda97a027d",
   "metadata": {},
   "source": [
    "### View All Tables"
   ]
  },
  {
   "cell_type": "markdown",
   "id": "b3386d22-c1ad-47c0-abfa-b6f345a6458a",
   "metadata": {},
   "source": [
    "SHOW TABLES;"
   ]
  },
  {
   "cell_type": "markdown",
   "id": "a0405cfc-889c-43eb-acc5-55f192110508",
   "metadata": {},
   "source": [
    "### View Table Structure"
   ]
  },
  {
   "cell_type": "markdown",
   "id": "e91057f5-5789-4028-aa66-accce379c7b2",
   "metadata": {},
   "source": [
    "DESCRIBE students;"
   ]
  },
  {
   "cell_type": "markdown",
   "id": "be877cb3-ffc1-4cb5-96dc-236a00d644a1",
   "metadata": {},
   "source": [
    "### Viewing Table Data"
   ]
  },
  {
   "cell_type": "markdown",
   "id": "bcc93883-fdb8-4a78-bede-521a48aad06d",
   "metadata": {},
   "source": [
    "SELECT * FROM students;"
   ]
  },
  {
   "cell_type": "markdown",
   "id": "fde9a737-3cc2-4f7f-8e08-e2f7661ab03d",
   "metadata": {},
   "source": [
    ">Tables are the backbone of any relational database. A well-structured table leads to efficient data management and fewer issues later on."
   ]
  },
  {
   "cell_type": "code",
   "execution_count": null,
   "id": "f6535069-4040-49d2-a76d-c77888592460",
   "metadata": {},
   "outputs": [],
   "source": []
  }
 ],
 "metadata": {
  "kernelspec": {
   "display_name": "Python 3 (ipykernel)",
   "language": "python",
   "name": "python3"
  },
  "language_info": {
   "codemirror_mode": {
    "name": "ipython",
    "version": 3
   },
   "file_extension": ".py",
   "mimetype": "text/x-python",
   "name": "python",
   "nbconvert_exporter": "python",
   "pygments_lexer": "ipython3",
   "version": "3.13.5"
  }
 },
 "nbformat": 4,
 "nbformat_minor": 5
}
