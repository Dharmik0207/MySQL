{
 "cells": [
  {
   "cell_type": "markdown",
   "id": "929cba2f-2926-4e75-8f7d-15cf52f38b8d",
   "metadata": {},
   "source": [
    "# Selecting Data from a Table"
   ]
  },
  {
   "cell_type": "markdown",
   "id": "4d6969a4-7d52-4221-bf86-a02769c921b1",
   "metadata": {},
   "source": [
    "## 1. Basic SELECT Statement"
   ]
  },
  {
   "cell_type": "markdown",
   "id": "2a9988c5-15e5-4667-b472-66cb82d67a87",
   "metadata": {},
   "source": [
    "##### To retrieve all data from the student table:"
   ]
  },
  {
   "cell_type": "markdown",
   "id": "3a094f03-3b1a-4f98-a7f7-11ed099ecbe6",
   "metadata": {},
   "source": [
    "SELECT * FROM student;"
   ]
  },
  {
   "cell_type": "markdown",
   "id": "940072e4-07c7-4f97-99aa-266b40718b6a",
   "metadata": {},
   "source": [
    "##### To retrieve specific columns (e.g., only name and grade):"
   ]
  },
  {
   "cell_type": "markdown",
   "id": "25b618ab-0167-4348-a1e9-83bad6c3cfd3",
   "metadata": {},
   "source": [
    "SELECT name, grade FROM student;"
   ]
  },
  {
   "cell_type": "markdown",
   "id": "04666f00-4752-40e8-8da1-2b1390ba5fe6",
   "metadata": {},
   "source": [
    "## 2. Using the WHERE Clause\n",
    "\n",
    "The WHERE clause is used to filter rows based on a condition."
   ]
  },
  {
   "cell_type": "markdown",
   "id": "7f8d3cef-6c58-448c-bb15-4000c4da05be",
   "metadata": {},
   "source": [
    "##### Example: Students in 10th grade"
   ]
  },
  {
   "cell_type": "markdown",
   "id": "70f70691-7119-459b-827b-cf82a4bd7d54",
   "metadata": {},
   "source": [
    "SELECT * FROM student WHERE grade = '10th';"
   ]
  },
  {
   "cell_type": "markdown",
   "id": "958d026b-a56a-401f-b6b7-b18891631152",
   "metadata": {},
   "source": [
    "##### Example: Students older than 16"
   ]
  },
  {
   "cell_type": "markdown",
   "id": "a53f9926-82a6-4f23-b083-0b34998d1e77",
   "metadata": {},
   "source": [
    "SELECT * FROM student WHERE age > 16;"
   ]
  },
  {
   "cell_type": "markdown",
   "id": "c6c92e01-6792-4a93-9fa7-162463e6167f",
   "metadata": {},
   "source": [
    "## 3. Comparison Operators in MySQL"
   ]
  },
  {
   "cell_type": "code",
   "execution_count": 20,
   "id": "49856ac6-f18f-493a-9d92-215f4cc3bc7f",
   "metadata": {},
   "outputs": [
    {
     "data": {
      "text/html": [
       "<div>\n",
       "<style scoped>\n",
       "    .dataframe tbody tr th:only-of-type {\n",
       "        vertical-align: middle;\n",
       "    }\n",
       "\n",
       "    .dataframe tbody tr th {\n",
       "        vertical-align: top;\n",
       "    }\n",
       "\n",
       "    .dataframe thead th {\n",
       "        text-align: right;\n",
       "    }\n",
       "</style>\n",
       "<table border=\"1\" class=\"dataframe\">\n",
       "  <thead>\n",
       "    <tr style=\"text-align: right;\">\n",
       "      <th></th>\n",
       "      <th>Operator</th>\n",
       "      <th>Description</th>\n",
       "    </tr>\n",
       "  </thead>\n",
       "  <tbody>\n",
       "    <tr>\n",
       "      <th>0</th>\n",
       "      <td>=</td>\n",
       "      <td>Equals</td>\n",
       "    </tr>\n",
       "    <tr>\n",
       "      <th>1</th>\n",
       "      <td>!=</td>\n",
       "      <td>Not Equal to</td>\n",
       "    </tr>\n",
       "    <tr>\n",
       "      <th>2</th>\n",
       "      <td>&lt;&gt;</td>\n",
       "      <td>Not Equal to(alternative)</td>\n",
       "    </tr>\n",
       "    <tr>\n",
       "      <th>3</th>\n",
       "      <td>&gt;</td>\n",
       "      <td>Greater than</td>\n",
       "    </tr>\n",
       "    <tr>\n",
       "      <th>4</th>\n",
       "      <td>&lt;</td>\n",
       "      <td>Less than</td>\n",
       "    </tr>\n",
       "    <tr>\n",
       "      <th>5</th>\n",
       "      <td>&gt;=</td>\n",
       "      <td>Greater than or Equal to</td>\n",
       "    </tr>\n",
       "    <tr>\n",
       "      <th>6</th>\n",
       "      <td>&lt;=</td>\n",
       "      <td>Less than or equal to</td>\n",
       "    </tr>\n",
       "    <tr>\n",
       "      <th>7</th>\n",
       "      <td>BETWEEN</td>\n",
       "      <td>Within a range (inclusive)</td>\n",
       "    </tr>\n",
       "    <tr>\n",
       "      <th>8</th>\n",
       "      <td>IN</td>\n",
       "      <td>Matches any in a list</td>\n",
       "    </tr>\n",
       "    <tr>\n",
       "      <th>9</th>\n",
       "      <td>NOT IN</td>\n",
       "      <td>Excludes list items</td>\n",
       "    </tr>\n",
       "    <tr>\n",
       "      <th>10</th>\n",
       "      <td>LIKE</td>\n",
       "      <td>Pattern matching</td>\n",
       "    </tr>\n",
       "    <tr>\n",
       "      <th>11</th>\n",
       "      <td>NOT LIKE</td>\n",
       "      <td>Pattern not matching</td>\n",
       "    </tr>\n",
       "  </tbody>\n",
       "</table>\n",
       "</div>"
      ],
      "text/plain": [
       "    Operator                 Description\n",
       "0          =                      Equals\n",
       "1         !=                Not Equal to\n",
       "2         <>   Not Equal to(alternative)\n",
       "3          >                Greater than\n",
       "4          <                   Less than\n",
       "5         >=    Greater than or Equal to\n",
       "6         <=       Less than or equal to\n",
       "7    BETWEEN  Within a range (inclusive)\n",
       "8         IN       Matches any in a list\n",
       "9     NOT IN         Excludes list items\n",
       "10      LIKE            Pattern matching\n",
       "11  NOT LIKE        Pattern not matching"
      ]
     },
     "execution_count": 20,
     "metadata": {},
     "output_type": "execute_result"
    }
   ],
   "source": [
    "import pandas as pd\n",
    "\n",
    "# Create a small dataset\n",
    "data = {\n",
    "    'Operator': ['=', '!=', '<>', '>', '<', '>=', '<=', 'BETWEEN', 'IN', 'NOT IN', 'LIKE', 'NOT LIKE'],\n",
    "    'Description': ['Equals', 'Not Equal to', 'Not Equal to(alternative)', 'Greater than', 'Less than', 'Greater than or Equal to', 'Less than or equal to', 'Within a range (inclusive)', 'Matches any in a list', 'Excludes list items', 'Pattern matching', 'Pattern not matching']\n",
    "    }\n",
    "\n",
    "df = pd.DataFrame(data)\n",
    "df"
   ]
  },
  {
   "cell_type": "markdown",
   "id": "839ff9f6-a3a1-44f8-9449-54b5e2609fa5",
   "metadata": {},
   "source": [
    "## 4. Handling NULL Values\n",
    "- What is NULL?\n",
    "> NULL represents missing or unknown values. It is not equal to 0, empty string, or any other value.\n",
    "\n",
    "- Common Mistake (Incorrect):"
   ]
  },
  {
   "cell_type": "code",
   "execution_count": 21,
   "id": "38272a4a-da14-4ddb-95f6-0f29db2f8395",
   "metadata": {},
   "outputs": [],
   "source": [
    "# This will not work as expected"
   ]
  },
  {
   "cell_type": "markdown",
   "id": "c257a228-7fed-4a9e-bcbf-77e30eec89ee",
   "metadata": {},
   "source": [
    "SELECT * FROM student WHERE grade = NULL;"
   ]
  },
  {
   "cell_type": "markdown",
   "id": "4805d6d4-ad0b-40af-8c35-cf9232d64b6c",
   "metadata": {},
   "source": [
    "### Correct Ways to Handle NULL"
   ]
  },
  {
   "cell_type": "code",
   "execution_count": 22,
   "id": "953117fe-4edb-48bf-8ddf-44e40ad92dd0",
   "metadata": {},
   "outputs": [
    {
     "data": {
      "text/html": [
       "<div>\n",
       "<style scoped>\n",
       "    .dataframe tbody tr th:only-of-type {\n",
       "        vertical-align: middle;\n",
       "    }\n",
       "\n",
       "    .dataframe tbody tr th {\n",
       "        vertical-align: top;\n",
       "    }\n",
       "\n",
       "    .dataframe thead th {\n",
       "        text-align: right;\n",
       "    }\n",
       "</style>\n",
       "<table border=\"1\" class=\"dataframe\">\n",
       "  <thead>\n",
       "    <tr style=\"text-align: right;\">\n",
       "      <th></th>\n",
       "      <th>Condition</th>\n",
       "      <th>Correct Syntax</th>\n",
       "    </tr>\n",
       "  </thead>\n",
       "  <tbody>\n",
       "    <tr>\n",
       "      <th>0</th>\n",
       "      <td>Is NULL</td>\n",
       "      <td>WHERE grade is NULL</td>\n",
       "    </tr>\n",
       "    <tr>\n",
       "      <th>1</th>\n",
       "      <td>Is NOT NULL</td>\n",
       "      <td>WHERE grade is NOT NULL</td>\n",
       "    </tr>\n",
       "  </tbody>\n",
       "</table>\n",
       "</div>"
      ],
      "text/plain": [
       "     Condition           Correct Syntax\n",
       "0      Is NULL      WHERE grade is NULL\n",
       "1  Is NOT NULL  WHERE grade is NOT NULL"
      ]
     },
     "execution_count": 22,
     "metadata": {},
     "output_type": "execute_result"
    }
   ],
   "source": [
    "import pandas as pd\n",
    "\n",
    "# Create a small dataset\n",
    "data = {\n",
    "    'Condition': ['Is NULL', 'Is NOT NULL'],\n",
    "    'Correct Syntax': ['WHERE grade is NULL', 'WHERE grade is NOT NULL']\n",
    "}\n",
    "\n",
    "df = pd.DataFrame(data)\n",
    "df\n"
   ]
  },
  {
   "cell_type": "markdown",
   "id": "524c60de-95f9-4b3a-a925-ab9358cb6e9c",
   "metadata": {},
   "source": [
    "### Example: Select students with no grade assigned"
   ]
  },
  {
   "cell_type": "markdown",
   "id": "9ea61b09-68cc-44fb-a2ac-ca8cd12961a0",
   "metadata": {},
   "source": [
    "SELECT * FROM student WHERE grade IS NULL;"
   ]
  },
  {
   "cell_type": "markdown",
   "id": "a50b12ef-7802-47d4-954c-9bc274c8b753",
   "metadata": {},
   "source": [
    "### Example: Select students who have a grade"
   ]
  },
  {
   "cell_type": "markdown",
   "id": "974a3f77-b5c0-4799-ad0a-63679502e41b",
   "metadata": {},
   "source": [
    "SELECT * FROM student WHERE grade IS NOT NULL;"
   ]
  },
  {
   "cell_type": "markdown",
   "id": "5e82eda5-eeb5-4c11-a227-7a1d116bcea0",
   "metadata": {},
   "source": [
    "## 5. Combining Conditions"
   ]
  },
  {
   "cell_type": "code",
   "execution_count": 23,
   "id": "23d79a42-51b2-4987-969a-9192c19346d6",
   "metadata": {},
   "outputs": [],
   "source": [
    "# You can use AND, OR, and parentheses to combine conditions."
   ]
  },
  {
   "cell_type": "markdown",
   "id": "3b8221ca-c801-4b54-9809-867523342b6a",
   "metadata": {},
   "source": [
    "##### Example: Students in 10th grade and older than 16"
   ]
  },
  {
   "cell_type": "markdown",
   "id": "63d2513c-9cfe-4f5a-b12d-c8d17fc9c4de",
   "metadata": {},
   "source": [
    "SELECT * FROM student WHERE grade = '10th' AND age > 16;"
   ]
  },
  {
   "cell_type": "markdown",
   "id": "d93cbf17-eaa9-448a-aae5-a872705ed119",
   "metadata": {},
   "source": [
    "##### Example: Students in 9th or 12th grade"
   ]
  },
  {
   "cell_type": "markdown",
   "id": "bf1700c1-064a-4337-bd8e-6ffafe0144ae",
   "metadata": {},
   "source": [
    "SELECT * FROM student WHERE grade = '9th' OR grade = '12th'"
   ]
  },
  {
   "cell_type": "markdown",
   "id": "ce8c29bd-5580-42cd-9358-435507cf08f1",
   "metadata": {},
   "source": [
    "#### Example: Complex conditions"
   ]
  },
  {
   "cell_type": "markdown",
   "id": "9ce88ae7-0d3f-4330-8c45-bcb77f74cfd2",
   "metadata": {},
   "source": [
    "SELECT * FROM student \n",
    "\n",
    "WHERE (grade = '10th' OR grade = '11th') AND age >= 16;"
   ]
  },
  {
   "cell_type": "markdown",
   "id": "3bf11778-565d-4c2a-9307-630a2780d537",
   "metadata": {},
   "source": [
    "## 6. Sorting Results with ORDER BY"
   ]
  },
  {
   "cell_type": "code",
   "execution_count": 24,
   "id": "1815e6f9-71ef-470a-ac84-455f87508227",
   "metadata": {},
   "outputs": [],
   "source": [
    "# Sort by age in ascending order:"
   ]
  },
  {
   "cell_type": "markdown",
   "id": "56bd0830-7611-4a1d-8819-3e586a27ec39",
   "metadata": {},
   "source": [
    "SELECT * FROM student ORDER BY age ASC;"
   ]
  },
  {
   "cell_type": "code",
   "execution_count": 25,
   "id": "4e345269-4475-4d10-ba7e-ae4fd7cbe908",
   "metadata": {},
   "outputs": [],
   "source": [
    "# Sort by name in descending order:"
   ]
  },
  {
   "cell_type": "markdown",
   "id": "488db261-8721-492d-ad84-039d49d445c5",
   "metadata": {},
   "source": [
    "SELECT * FROM student ORDER BY name DESC;"
   ]
  },
  {
   "cell_type": "markdown",
   "id": "c3055ebe-e7c5-429c-8aac-62b059f22b77",
   "metadata": {},
   "source": [
    "## 7. Limiting Results with LIMIT"
   ]
  },
  {
   "cell_type": "code",
   "execution_count": 26,
   "id": "f776085f-8e03-4485-8d29-8e089484c9aa",
   "metadata": {},
   "outputs": [],
   "source": [
    "# Get only 5 rows:"
   ]
  },
  {
   "cell_type": "markdown",
   "id": "abf34724-0053-4e02-806a-9c353560c19a",
   "metadata": {},
   "source": [
    "SELECT * FROM student LIMIT 5;"
   ]
  },
  {
   "cell_type": "code",
   "execution_count": 27,
   "id": "86f99c0a-23b5-46da-9f56-307c5460d45d",
   "metadata": {},
   "outputs": [],
   "source": [
    "# Get 5 rows starting from the 3rd (offset 2):"
   ]
  },
  {
   "cell_type": "markdown",
   "id": "faae9392-c3d2-4805-a8ee-e30dbd672717",
   "metadata": {},
   "source": [
    "SELECT * FROM student LIMIT 2, 5;"
   ]
  },
  {
   "cell_type": "markdown",
   "id": "ff352353-59b7-41e4-8cf6-94d1683a039a",
   "metadata": {},
   "source": [
    "## 8. Using Wildcards with LIKE"
   ]
  },
  {
   "cell_type": "markdown",
   "id": "aa88f339-c938-4721-8439-3ac6f97c3a35",
   "metadata": {},
   "source": [
    "Wildcards are used with the LIKE operator to search for patterns. They’re helpful when you're not exactly sure about the full value, or you want to match based on structure or partial content.\n",
    "\n",
    "- There are two wildcards in MySQL:\n",
    "\n",
    "> % – Matches zero or more characters\n",
    "> \n",
    "> _ – Matches exactly one character"
   ]
  },
  {
   "cell_type": "markdown",
   "id": "e8868287-ddb5-4eb7-9df3-4fa22bc37a6b",
   "metadata": {},
   "source": [
    "##### Example: Names starting with 'A'"
   ]
  },
  {
   "cell_type": "markdown",
   "id": "e0490c41-3bfb-4cb1-aaf2-f914304d866a",
   "metadata": {},
   "source": [
    "SELECT * FROM students\n",
    "\n",
    "WHERE name LIKE 'A%';"
   ]
  },
  {
   "cell_type": "code",
   "execution_count": 28,
   "id": "f50b021c-0aa6-4699-b6cc-24af8dcd0487",
   "metadata": {},
   "outputs": [],
   "source": [
    "# This finds any name that starts with 'A', like Aakash, Ananya, Aryan."
   ]
  },
  {
   "cell_type": "markdown",
   "id": "02623360-eabd-4096-8ece-4622d50087ee",
   "metadata": {},
   "source": [
    "#### Matching Dates with _ Wildcard\n",
    "> The _ wildcard is useful for matching specific patterns in date strings, especially in YYYY-MM-DD format.\n",
    ">\n",
    "> Let’s say you want to find records from the 5th day of any month:"
   ]
  },
  {
   "cell_type": "markdown",
   "id": "e2e1ac09-8d3a-4684-8146-df2fc28bf039",
   "metadata": {},
   "source": [
    "SELECT * FROM attendance\n",
    "\n",
    "WHERE date LIKE '____-__-05';"
   ]
  },
  {
   "cell_type": "markdown",
   "id": "6ca238ea-61ab-4c33-b526-9f9e340cf221",
   "metadata": {},
   "source": [
    "##### Explanation:\n",
    "\n",
    "- ____ matches any year (4 characters)\n",
    "- __ matches any month (2 characters)\n",
    "- 05 is the 5th day\n",
    "\n",
    "You’re basically telling MySQL:\n",
    "\n",
    "\"Give me all rows where the date ends with -05 — which means the 5th of any month, any year.\""
   ]
  },
  {
   "cell_type": "markdown",
   "id": "64d3f8a5-d9e7-4161-8252-dd29e1e29ce9",
   "metadata": {},
   "source": [
    "##### More Date Pattern Examples"
   ]
  },
  {
   "cell_type": "code",
   "execution_count": 29,
   "id": "21572c1a-8144-46a5-800a-fad6418e3c85",
   "metadata": {},
   "outputs": [
    {
     "data": {
      "text/html": [
       "<div>\n",
       "<style scoped>\n",
       "    .dataframe tbody tr th:only-of-type {\n",
       "        vertical-align: middle;\n",
       "    }\n",
       "\n",
       "    .dataframe tbody tr th {\n",
       "        vertical-align: top;\n",
       "    }\n",
       "\n",
       "    .dataframe thead th {\n",
       "        text-align: right;\n",
       "    }\n",
       "</style>\n",
       "<table border=\"1\" class=\"dataframe\">\n",
       "  <thead>\n",
       "    <tr style=\"text-align: right;\">\n",
       "      <th></th>\n",
       "      <th>Pattern To be Matched</th>\n",
       "      <th>Matches</th>\n",
       "    </tr>\n",
       "  </thead>\n",
       "  <tbody>\n",
       "    <tr>\n",
       "      <th>0</th>\n",
       "      <td>2025-05-%</td>\n",
       "      <td>Any day in May 2025</td>\n",
       "    </tr>\n",
       "    <tr>\n",
       "      <th>1</th>\n",
       "      <td>2024-12-__</td>\n",
       "      <td>All 2-digit days in December 2024</td>\n",
       "    </tr>\n",
       "    <tr>\n",
       "      <th>2</th>\n",
       "      <td>____-01-01</td>\n",
       "      <td>1st January of any year</td>\n",
       "    </tr>\n",
       "    <tr>\n",
       "      <th>3</th>\n",
       "      <td>202_-__-__</td>\n",
       "      <td>Any date in the 2020s decade</td>\n",
       "    </tr>\n",
       "    <tr>\n",
       "      <th>4</th>\n",
       "      <td>____-__-3_</td>\n",
       "      <td>All dates from day 30 to 39 (not valid, but wo...</td>\n",
       "    </tr>\n",
       "  </tbody>\n",
       "</table>\n",
       "</div>"
      ],
      "text/plain": [
       "  Pattern To be Matched                                            Matches\n",
       "0             2025-05-%                                Any day in May 2025\n",
       "1            2024-12-__                  All 2-digit days in December 2024\n",
       "2            ____-01-01                            1st January of any year\n",
       "3            202_-__-__                       Any date in the 2020s decade\n",
       "4            ____-__-3_  All dates from day 30 to 39 (not valid, but wo..."
      ]
     },
     "execution_count": 29,
     "metadata": {},
     "output_type": "execute_result"
    }
   ],
   "source": [
    "import pandas as pd\n",
    "\n",
    "# Create a small dataset\n",
    "data = {\n",
    "    'Pattern To be Matched': ['2025-05-%', '2024-12-__', '____-01-01', '202_-__-__', '____-__-3_'],\n",
    "    'Matches': ['Any day in May 2025', 'All 2-digit days in December 2024', '1st January of any year', 'Any date in the 2020s decade', 'All dates from day 30 to 39 (not valid, but works syntactically)']\n",
    "}\n",
    "\n",
    "df = pd.DataFrame(data)\n",
    "df"
   ]
  },
  {
   "cell_type": "markdown",
   "id": "9c3bf592-4263-4db4-a4a7-65106fc8aaf2",
   "metadata": {},
   "source": [
    "##### Quick Recap: LIKE Wildcard Matching"
   ]
  },
  {
   "cell_type": "code",
   "execution_count": 31,
   "id": "42962e0f-eae2-4dcc-8e6a-9007f6d68581",
   "metadata": {},
   "outputs": [
    {
     "data": {
      "text/html": [
       "<div>\n",
       "<style scoped>\n",
       "    .dataframe tbody tr th:only-of-type {\n",
       "        vertical-align: middle;\n",
       "    }\n",
       "\n",
       "    .dataframe tbody tr th {\n",
       "        vertical-align: top;\n",
       "    }\n",
       "\n",
       "    .dataframe thead th {\n",
       "        text-align: right;\n",
       "    }\n",
       "</style>\n",
       "<table border=\"1\" class=\"dataframe\">\n",
       "  <thead>\n",
       "    <tr style=\"text-align: right;\">\n",
       "      <th></th>\n",
       "      <th>Pattern</th>\n",
       "      <th>Correct Syntax</th>\n",
       "    </tr>\n",
       "  </thead>\n",
       "  <tbody>\n",
       "    <tr>\n",
       "      <th>0</th>\n",
       "      <td>A%</td>\n",
       "      <td>Starts with A</td>\n",
       "    </tr>\n",
       "    <tr>\n",
       "      <th>1</th>\n",
       "      <td>%sh</td>\n",
       "      <td>Ends with sh</td>\n",
       "    </tr>\n",
       "    <tr>\n",
       "      <th>2</th>\n",
       "      <td>%ar%</td>\n",
       "      <td>Contains ar</td>\n",
       "    </tr>\n",
       "    <tr>\n",
       "      <th>3</th>\n",
       "      <td>R____</td>\n",
       "      <td>5-letter name starting with R</td>\n",
       "    </tr>\n",
       "    <tr>\n",
       "      <th>4</th>\n",
       "      <td>____-__-05</td>\n",
       "      <td>Dates with day = 05</td>\n",
       "    </tr>\n",
       "  </tbody>\n",
       "</table>\n",
       "</div>"
      ],
      "text/plain": [
       "      Pattern                 Correct Syntax\n",
       "0          A%                  Starts with A\n",
       "1         %sh                   Ends with sh\n",
       "2        %ar%                    Contains ar\n",
       "3       R____  5-letter name starting with R\n",
       "4  ____-__-05            Dates with day = 05"
      ]
     },
     "execution_count": 31,
     "metadata": {},
     "output_type": "execute_result"
    }
   ],
   "source": [
    "import pandas as pd\n",
    "\n",
    "# Create a small dataset\n",
    "data = {\n",
    "    'Pattern': ['A%', '%sh', '%ar%', 'R____', '____-__-05'],\n",
    "    'Correct Syntax': ['Starts with A', 'Ends with sh', 'Contains ar', '5-letter name starting with R', 'Dates with day = 05']\n",
    "}\n",
    "\n",
    "df = pd.DataFrame(data)\n",
    "df\n"
   ]
  },
  {
   "cell_type": "code",
   "execution_count": null,
   "id": "dbbc484c-b852-4e0e-b177-5434b40ed0b2",
   "metadata": {},
   "outputs": [],
   "source": []
  }
 ],
 "metadata": {
  "kernelspec": {
   "display_name": "Python 3 (ipykernel)",
   "language": "python",
   "name": "python3"
  },
  "language_info": {
   "codemirror_mode": {
    "name": "ipython",
    "version": 3
   },
   "file_extension": ".py",
   "mimetype": "text/x-python",
   "name": "python",
   "nbconvert_exporter": "python",
   "pygments_lexer": "ipython3",
   "version": "3.13.5"
  }
 },
 "nbformat": 4,
 "nbformat_minor": 5
}
